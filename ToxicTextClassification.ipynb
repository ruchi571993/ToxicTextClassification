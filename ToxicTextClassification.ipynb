{
  "nbformat": 4,
  "nbformat_minor": 0,
  "metadata": {
    "colab": {
      "name": "ToxicTextClassification.ipynb",
      "provenance": []
    },
    "kernelspec": {
      "name": "python3",
      "display_name": "Python 3"
    },
    "accelerator": "GPU"
  },
  "cells": [
    {
      "cell_type": "markdown",
      "metadata": {
        "id": "_lw3yf-0F40Q",
        "colab_type": "text"
      },
      "source": [
        "Import lib"
      ]
    },
    {
      "cell_type": "code",
      "metadata": {
        "id": "waamSe21bl1A",
        "colab_type": "code",
        "colab": {
          "base_uri": "https://localhost:8080/",
          "height": 81
        },
        "outputId": "c1386a81-14d8-4e6d-95db-c64b22d1422d"
      },
      "source": [
        "from __future__ import print_function, division\n",
        "from builtins import range\n",
        "\n",
        "\n",
        "import os\n",
        "import sys\n",
        "import numpy as np\n",
        "import pandas as pd\n",
        "import matplotlib.pyplot as plt\n",
        "from keras.preprocessing.text import Tokenizer\n",
        "from keras.preprocessing.sequence import pad_sequences\n",
        "from keras.layers import Dense, Input, GlobalMaxPooling1D\n",
        "from keras.layers import Conv1D, MaxPooling1D, Embedding\n",
        "from keras.models import Model\n",
        "from sklearn.metrics import roc_auc_score\n"
      ],
      "execution_count": 1,
      "outputs": [
        {
          "output_type": "stream",
          "text": [
            "Using TensorFlow backend.\n"
          ],
          "name": "stderr"
        },
        {
          "output_type": "display_data",
          "data": {
            "text/html": [
              "<p style=\"color: red;\">\n",
              "The default version of TensorFlow in Colab will soon switch to TensorFlow 2.x.<br>\n",
              "We recommend you <a href=\"https://www.tensorflow.org/guide/migrate\" target=\"_blank\">upgrade</a> now \n",
              "or ensure your notebook will continue to use TensorFlow 1.x via the <code>%tensorflow_version 1.x</code> magic:\n",
              "<a href=\"https://colab.research.google.com/notebooks/tensorflow_version.ipynb\" target=\"_blank\">more info</a>.</p>\n"
            ],
            "text/plain": [
              "<IPython.core.display.HTML object>"
            ]
          },
          "metadata": {
            "tags": []
          }
        }
      ]
    },
    {
      "cell_type": "markdown",
      "metadata": {
        "id": "wG0zxvR5F-zg",
        "colab_type": "text"
      },
      "source": [
        "### Define config"
      ]
    },
    {
      "cell_type": "code",
      "metadata": {
        "id": "r0Nq9W1kcy2P",
        "colab_type": "code",
        "colab": {}
      },
      "source": [
        "MAX_SEQUENCE_LENGTH=100\n",
        "MAX_VOCAB_SIZE=20000\n",
        "EMBEDDING_DIM=100\n",
        "VALIDATION_SPLIT=0.2\n",
        "BATCH_SIZE=128\n",
        "EPOCHS=10"
      ],
      "execution_count": 0,
      "outputs": []
    },
    {
      "cell_type": "code",
      "metadata": {
        "id": "RkiW2ud9g4He",
        "colab_type": "code",
        "colab": {}
      },
      "source": [
        "from pydrive.auth import GoogleAuth\n",
        "from pydrive.drive import GoogleDrive\n",
        "from google.colab import auth\n",
        "from oauth2client.client import GoogleCredentials\n",
        "\n",
        "auth.authenticate_user()\n",
        "gauth = GoogleAuth()\n",
        "gauth.credentials = GoogleCredentials.get_application_default()\n",
        "drive = GoogleDrive(gauth)"
      ],
      "execution_count": 0,
      "outputs": []
    },
    {
      "cell_type": "code",
      "metadata": {
        "id": "1HTsHCnyg7oy",
        "colab_type": "code",
        "colab": {}
      },
      "source": [
        "downloaded_train = drive.CreateFile({'id':\"1UclYAm4IBj8AispSJ6OWRn85l-xzG38z\"})\n",
        "downloaded_train.GetContentFile('glove.6B.100d.txt')\n"
      ],
      "execution_count": 0,
      "outputs": []
    },
    {
      "cell_type": "code",
      "metadata": {
        "id": "0yM_JM86j6vw",
        "colab_type": "code",
        "colab": {}
      },
      "source": [
        "downloaded_train = drive.CreateFile({'id':\"1FNgBMYz3eBOXhpfn-CBrlZLg1FyXs3Lu\"})\n",
        "downloaded_train.GetContentFile('train_toxic.csv')"
      ],
      "execution_count": 0,
      "outputs": []
    },
    {
      "cell_type": "markdown",
      "metadata": {
        "id": "FyYTGiLI3QIl",
        "colab_type": "text"
      },
      "source": [
        "### 1. Load pretrained word vectors"
      ]
    },
    {
      "cell_type": "code",
      "metadata": {
        "id": "OxMW1sJhfBzj",
        "colab_type": "code",
        "colab": {}
      },
      "source": [
        "word2vec={}\n",
        "#with open(os.path.join('C:\\Users\\Ruchika\\Downloads\\glove.6B.zip\\glove.6B.100d.txt'% EMBEDDING_DIM)) as f:\n",
        "f=open('glove.6B.100d.txt', encoding='utf8')\n",
        "for line in f:\n",
        "    values=line.split()\n",
        "    word=values[0]\n",
        "    vec=np.asarray(values[1:],dtype='float32')\n",
        "    word2vec[word]=vec"
      ],
      "execution_count": 0,
      "outputs": []
    },
    {
      "cell_type": "markdown",
      "metadata": {
        "id": "haDD7qNQ3XID",
        "colab_type": "text"
      },
      "source": [
        "### 2. Load train data"
      ]
    },
    {
      "cell_type": "code",
      "metadata": {
        "id": "kYbYJ65woHru",
        "colab_type": "code",
        "colab": {}
      },
      "source": [
        "train=pd.read_csv('train_toxic.csv')\n",
        "sentences=train[\"comment_text\"]\n",
        "labels=[\"toxic\",\"severe_toxic\", \"obscene\",\"threat\",\"insult\",\"identity_hate\"]\n",
        "targets=train[labels].values\n"
      ],
      "execution_count": 0,
      "outputs": []
    },
    {
      "cell_type": "code",
      "metadata": {
        "id": "wir2QorO3nZ4",
        "colab_type": "code",
        "colab": {
          "base_uri": "https://localhost:8080/",
          "height": 202
        },
        "outputId": "0cd0f610-31d9-429c-d0b7-1b85d5d807f6"
      },
      "source": [
        "train.head()"
      ],
      "execution_count": 8,
      "outputs": [
        {
          "output_type": "execute_result",
          "data": {
            "text/html": [
              "<div>\n",
              "<style scoped>\n",
              "    .dataframe tbody tr th:only-of-type {\n",
              "        vertical-align: middle;\n",
              "    }\n",
              "\n",
              "    .dataframe tbody tr th {\n",
              "        vertical-align: top;\n",
              "    }\n",
              "\n",
              "    .dataframe thead th {\n",
              "        text-align: right;\n",
              "    }\n",
              "</style>\n",
              "<table border=\"1\" class=\"dataframe\">\n",
              "  <thead>\n",
              "    <tr style=\"text-align: right;\">\n",
              "      <th></th>\n",
              "      <th>id</th>\n",
              "      <th>comment_text</th>\n",
              "      <th>toxic</th>\n",
              "      <th>severe_toxic</th>\n",
              "      <th>obscene</th>\n",
              "      <th>threat</th>\n",
              "      <th>insult</th>\n",
              "      <th>identity_hate</th>\n",
              "    </tr>\n",
              "  </thead>\n",
              "  <tbody>\n",
              "    <tr>\n",
              "      <th>0</th>\n",
              "      <td>0000997932d777bf</td>\n",
              "      <td>Explanation\\nWhy the edits made under my usern...</td>\n",
              "      <td>0</td>\n",
              "      <td>0</td>\n",
              "      <td>0</td>\n",
              "      <td>0</td>\n",
              "      <td>0</td>\n",
              "      <td>0</td>\n",
              "    </tr>\n",
              "    <tr>\n",
              "      <th>1</th>\n",
              "      <td>000103f0d9cfb60f</td>\n",
              "      <td>D'aww! He matches this background colour I'm s...</td>\n",
              "      <td>0</td>\n",
              "      <td>0</td>\n",
              "      <td>0</td>\n",
              "      <td>0</td>\n",
              "      <td>0</td>\n",
              "      <td>0</td>\n",
              "    </tr>\n",
              "    <tr>\n",
              "      <th>2</th>\n",
              "      <td>000113f07ec002fd</td>\n",
              "      <td>Hey man, I'm really not trying to edit war. It...</td>\n",
              "      <td>0</td>\n",
              "      <td>0</td>\n",
              "      <td>0</td>\n",
              "      <td>0</td>\n",
              "      <td>0</td>\n",
              "      <td>0</td>\n",
              "    </tr>\n",
              "    <tr>\n",
              "      <th>3</th>\n",
              "      <td>0001b41b1c6bb37e</td>\n",
              "      <td>\"\\nMore\\nI can't make any real suggestions on ...</td>\n",
              "      <td>0</td>\n",
              "      <td>0</td>\n",
              "      <td>0</td>\n",
              "      <td>0</td>\n",
              "      <td>0</td>\n",
              "      <td>0</td>\n",
              "    </tr>\n",
              "    <tr>\n",
              "      <th>4</th>\n",
              "      <td>0001d958c54c6e35</td>\n",
              "      <td>You, sir, are my hero. Any chance you remember...</td>\n",
              "      <td>0</td>\n",
              "      <td>0</td>\n",
              "      <td>0</td>\n",
              "      <td>0</td>\n",
              "      <td>0</td>\n",
              "      <td>0</td>\n",
              "    </tr>\n",
              "  </tbody>\n",
              "</table>\n",
              "</div>"
            ],
            "text/plain": [
              "                 id  ... identity_hate\n",
              "0  0000997932d777bf  ...             0\n",
              "1  000103f0d9cfb60f  ...             0\n",
              "2  000113f07ec002fd  ...             0\n",
              "3  0001b41b1c6bb37e  ...             0\n",
              "4  0001d958c54c6e35  ...             0\n",
              "\n",
              "[5 rows x 8 columns]"
            ]
          },
          "metadata": {
            "tags": []
          },
          "execution_count": 8
        }
      ]
    },
    {
      "cell_type": "code",
      "metadata": {
        "id": "7BR-yul7IwFO",
        "colab_type": "code",
        "colab": {
          "base_uri": "https://localhost:8080/",
          "height": 260
        },
        "outputId": "cde3477c-6d22-4ab2-ed6d-26ecdd235e80"
      },
      "source": [
        "train.describe"
      ],
      "execution_count": 9,
      "outputs": [
        {
          "output_type": "execute_result",
          "data": {
            "text/plain": [
              "<bound method NDFrame.describe of                       id  ... identity_hate\n",
              "0       0000997932d777bf  ...             0\n",
              "1       000103f0d9cfb60f  ...             0\n",
              "2       000113f07ec002fd  ...             0\n",
              "3       0001b41b1c6bb37e  ...             0\n",
              "4       0001d958c54c6e35  ...             0\n",
              "...                  ...  ...           ...\n",
              "159566  ffe987279560d7ff  ...             0\n",
              "159567  ffea4adeee384e90  ...             0\n",
              "159568  ffee36eab5c267c9  ...             0\n",
              "159569  fff125370e4aaaf3  ...             0\n",
              "159570  fff46fc426af1f9a  ...             0\n",
              "\n",
              "[159571 rows x 8 columns]>"
            ]
          },
          "metadata": {
            "tags": []
          },
          "execution_count": 9
        }
      ]
    },
    {
      "cell_type": "code",
      "metadata": {
        "id": "o6UeTXjz4WQq",
        "colab_type": "code",
        "colab": {
          "base_uri": "https://localhost:8080/",
          "height": 52
        },
        "outputId": "469f619b-f8d7-4ce3-e43a-60c7ee30d8e3"
      },
      "source": [
        "print('max length',max(len(s) for s in sentences))\n",
        "print('min length',min(len(s) for s in sentences))"
      ],
      "execution_count": 10,
      "outputs": [
        {
          "output_type": "stream",
          "text": [
            "max length 5000\n",
            "min length 5\n"
          ],
          "name": "stdout"
        }
      ]
    },
    {
      "cell_type": "markdown",
      "metadata": {
        "id": "073Ry6b38Tqm",
        "colab_type": "text"
      },
      "source": [
        "### 3. NLP\n",
        "Tokenization"
      ]
    },
    {
      "cell_type": "code",
      "metadata": {
        "id": "nsVduqa98J0k",
        "colab_type": "code",
        "colab": {
          "base_uri": "https://localhost:8080/",
          "height": 35
        },
        "outputId": "34f0249a-c520-41ca-a3d7-313cb27b9eec"
      },
      "source": [
        "tokenizer=Tokenizer(num_words=MAX_VOCAB_SIZE)\n",
        "tokenizer.fit_on_texts(sentences)\n",
        "sequences=tokenizer.texts_to_sequences(sentences)\n",
        "\n",
        "wordtoindex=tokenizer.word_index\n",
        "print(len(wordtoindex))\n"
      ],
      "execution_count": 11,
      "outputs": [
        {
          "output_type": "stream",
          "text": [
            "210443\n"
          ],
          "name": "stdout"
        }
      ]
    },
    {
      "cell_type": "markdown",
      "metadata": {
        "id": "B_SDuXdKG2KE",
        "colab_type": "text"
      },
      "source": [
        "  Padding"
      ]
    },
    {
      "cell_type": "code",
      "metadata": {
        "id": "iCIt5PW2854G",
        "colab_type": "code",
        "colab": {}
      },
      "source": [
        "data=pad_sequences(sequences,maxlen=MAX_SEQUENCE_LENGTH)\n"
      ],
      "execution_count": 0,
      "outputs": []
    },
    {
      "cell_type": "markdown",
      "metadata": {
        "id": "L1O1QpjN_VuF",
        "colab_type": "text"
      },
      "source": [
        "### 3. Embedding Matrix"
      ]
    },
    {
      "cell_type": "code",
      "metadata": {
        "id": "qKD4irsr_Y3M",
        "colab_type": "code",
        "colab": {}
      },
      "source": [
        "num_words=min(MAX_VOCAB_SIZE,len(wordtoindex)+1)\n",
        "embedding_matrix=np.zeros((20000,100))  # num_words =20,000 and embedding dim=100\n",
        "for word, i in wordtoindex.items():\n",
        "# fetch vector from pretrained model\n",
        "  if i<MAX_VOCAB_SIZE:\n",
        "    embedding_vector=word2vec.get(word)\n",
        "    if embedding_vector is not None:\n",
        "      embedding_matrix[i]=embedding_vector"
      ],
      "execution_count": 0,
      "outputs": []
    },
    {
      "cell_type": "markdown",
      "metadata": {
        "id": "OpNA-pOLC9Ko",
        "colab_type": "text"
      },
      "source": [
        "### 4. Load pretrained word embeddings"
      ]
    },
    {
      "cell_type": "code",
      "metadata": {
        "id": "_Tqyw6ExBwNb",
        "colab_type": "code",
        "colab": {
          "base_uri": "https://localhost:8080/",
          "height": 72
        },
        "outputId": "5233343b-b225-4c0a-a54e-f5bcbb205c5a"
      },
      "source": [
        "embedding_layer=Embedding(num_words, EMBEDDING_DIM, weights=[embedding_matrix], input_length=MAX_SEQUENCE_LENGTH, trainable=False)"
      ],
      "execution_count": 14,
      "outputs": [
        {
          "output_type": "stream",
          "text": [
            "WARNING:tensorflow:From /usr/local/lib/python3.6/dist-packages/keras/backend/tensorflow_backend.py:66: The name tf.get_default_graph is deprecated. Please use tf.compat.v1.get_default_graph instead.\n",
            "\n"
          ],
          "name": "stdout"
        }
      ]
    },
    {
      "cell_type": "markdown",
      "metadata": {
        "id": "veLa2TRjEfsz",
        "colab_type": "text"
      },
      "source": [
        "### 5. Build model "
      ]
    },
    {
      "cell_type": "markdown",
      "metadata": {
        "id": "WzGKxMKJH92J",
        "colab_type": "text"
      },
      "source": [
        "A. CNN"
      ]
    },
    {
      "cell_type": "code",
      "metadata": {
        "id": "mCTlgEoA_yAB",
        "colab_type": "code",
        "colab": {
          "base_uri": "https://localhost:8080/",
          "height": 471
        },
        "outputId": "7f0bf0a5-ae9e-46a7-ceb8-2f3ca698405b"
      },
      "source": [
        "inputlayer=Input(shape=(MAX_SEQUENCE_LENGTH,))\n",
        "x=embedding_layer(inputlayer)\n",
        "x=Conv1D(128,3,activation='relu')(x)\n",
        "x=MaxPooling1D(3)(x)\n",
        "x=Conv1D(128,3,activation='relu')(x)\n",
        "x=MaxPooling1D(3)(x)\n",
        "x=Conv1D(128,3,activation='relu')(x)\n",
        "x=GlobalMaxPooling1D()(x)\n",
        "x=Dense(128, activation='relu')(x)\n",
        "output=Dense(len(labels),activation='sigmoid')(x)\n",
        "\n",
        "\n",
        "model=Model(inputlayer,output)\n",
        "model.compile(loss='binary_crossentropy',\n",
        "              optimizer='rmsprop',\n",
        "              metrics=['accuracy'])"
      ],
      "execution_count": 15,
      "outputs": [
        {
          "output_type": "stream",
          "text": [
            "WARNING:tensorflow:From /usr/local/lib/python3.6/dist-packages/keras/backend/tensorflow_backend.py:541: The name tf.placeholder is deprecated. Please use tf.compat.v1.placeholder instead.\n",
            "\n",
            "WARNING:tensorflow:From /usr/local/lib/python3.6/dist-packages/keras/backend/tensorflow_backend.py:4432: The name tf.random_uniform is deprecated. Please use tf.random.uniform instead.\n",
            "\n",
            "WARNING:tensorflow:From /usr/local/lib/python3.6/dist-packages/keras/backend/tensorflow_backend.py:190: The name tf.get_default_session is deprecated. Please use tf.compat.v1.get_default_session instead.\n",
            "\n",
            "WARNING:tensorflow:From /usr/local/lib/python3.6/dist-packages/keras/backend/tensorflow_backend.py:197: The name tf.ConfigProto is deprecated. Please use tf.compat.v1.ConfigProto instead.\n",
            "\n",
            "WARNING:tensorflow:From /usr/local/lib/python3.6/dist-packages/keras/backend/tensorflow_backend.py:203: The name tf.Session is deprecated. Please use tf.compat.v1.Session instead.\n",
            "\n",
            "WARNING:tensorflow:From /usr/local/lib/python3.6/dist-packages/keras/backend/tensorflow_backend.py:207: The name tf.global_variables is deprecated. Please use tf.compat.v1.global_variables instead.\n",
            "\n",
            "WARNING:tensorflow:From /usr/local/lib/python3.6/dist-packages/keras/backend/tensorflow_backend.py:216: The name tf.is_variable_initialized is deprecated. Please use tf.compat.v1.is_variable_initialized instead.\n",
            "\n",
            "WARNING:tensorflow:From /usr/local/lib/python3.6/dist-packages/keras/backend/tensorflow_backend.py:223: The name tf.variables_initializer is deprecated. Please use tf.compat.v1.variables_initializer instead.\n",
            "\n",
            "WARNING:tensorflow:From /usr/local/lib/python3.6/dist-packages/keras/backend/tensorflow_backend.py:4267: The name tf.nn.max_pool is deprecated. Please use tf.nn.max_pool2d instead.\n",
            "\n",
            "WARNING:tensorflow:From /usr/local/lib/python3.6/dist-packages/keras/optimizers.py:793: The name tf.train.Optimizer is deprecated. Please use tf.compat.v1.train.Optimizer instead.\n",
            "\n",
            "WARNING:tensorflow:From /usr/local/lib/python3.6/dist-packages/keras/backend/tensorflow_backend.py:3657: The name tf.log is deprecated. Please use tf.math.log instead.\n",
            "\n",
            "WARNING:tensorflow:From /usr/local/lib/python3.6/dist-packages/tensorflow_core/python/ops/nn_impl.py:183: where (from tensorflow.python.ops.array_ops) is deprecated and will be removed in a future version.\n",
            "Instructions for updating:\n",
            "Use tf.where in 2.0, which has the same broadcast rule as np.where\n"
          ],
          "name": "stdout"
        }
      ]
    },
    {
      "cell_type": "code",
      "metadata": {
        "id": "glEvsv3CNVO9",
        "colab_type": "code",
        "colab": {
          "base_uri": "https://localhost:8080/",
          "height": 488
        },
        "outputId": "08cbcd34-7529-4f5d-9e2b-964f999ef6b8"
      },
      "source": [
        "model.fit(data,targets,batch_size=BATCH_SIZE,epochs=EPOCHS,validation_split=VALIDATION_SPLIT)"
      ],
      "execution_count": 16,
      "outputs": [
        {
          "output_type": "stream",
          "text": [
            "WARNING:tensorflow:From /usr/local/lib/python3.6/dist-packages/keras/backend/tensorflow_backend.py:1033: The name tf.assign_add is deprecated. Please use tf.compat.v1.assign_add instead.\n",
            "\n",
            "WARNING:tensorflow:From /usr/local/lib/python3.6/dist-packages/keras/backend/tensorflow_backend.py:1020: The name tf.assign is deprecated. Please use tf.compat.v1.assign instead.\n",
            "\n",
            "Train on 127656 samples, validate on 31915 samples\n",
            "Epoch 1/10\n",
            "127656/127656 [==============================] - 14s 113us/step - loss: 0.0853 - acc: 0.9723 - val_loss: 0.0693 - val_acc: 0.9765\n",
            "Epoch 2/10\n",
            "127656/127656 [==============================] - 6s 49us/step - loss: 0.0674 - acc: 0.9771 - val_loss: 0.0760 - val_acc: 0.9768\n",
            "Epoch 3/10\n",
            "127656/127656 [==============================] - 6s 49us/step - loss: 0.0629 - acc: 0.9783 - val_loss: 0.0842 - val_acc: 0.9749\n",
            "Epoch 4/10\n",
            "127656/127656 [==============================] - 6s 48us/step - loss: 0.0597 - acc: 0.9792 - val_loss: 0.0691 - val_acc: 0.9777\n",
            "Epoch 5/10\n",
            "127656/127656 [==============================] - 6s 50us/step - loss: 0.0569 - acc: 0.9800 - val_loss: 0.0766 - val_acc: 0.9734\n",
            "Epoch 6/10\n",
            "127656/127656 [==============================] - 6s 50us/step - loss: 0.0550 - acc: 0.9807 - val_loss: 0.0766 - val_acc: 0.9733\n",
            "Epoch 7/10\n",
            "127656/127656 [==============================] - 6s 49us/step - loss: 0.0534 - acc: 0.9809 - val_loss: 0.0726 - val_acc: 0.9773\n",
            "Epoch 8/10\n",
            "127656/127656 [==============================] - 6s 47us/step - loss: 0.0524 - acc: 0.9813 - val_loss: 0.0842 - val_acc: 0.9773\n",
            "Epoch 9/10\n",
            "127656/127656 [==============================] - 6s 50us/step - loss: 0.0514 - acc: 0.9818 - val_loss: 0.0772 - val_acc: 0.9775\n",
            "Epoch 10/10\n",
            "127656/127656 [==============================] - 6s 51us/step - loss: 0.0502 - acc: 0.9820 - val_loss: 0.0789 - val_acc: 0.9759\n"
          ],
          "name": "stdout"
        },
        {
          "output_type": "execute_result",
          "data": {
            "text/plain": [
              "<keras.callbacks.History at 0x7ff37ef612e8>"
            ]
          },
          "metadata": {
            "tags": []
          },
          "execution_count": 16
        }
      ]
    },
    {
      "cell_type": "markdown",
      "metadata": {
        "id": "vGG_vGAYRG4V",
        "colab_type": "text"
      },
      "source": [
        "### CNN AUC "
      ]
    },
    {
      "cell_type": "code",
      "metadata": {
        "id": "q_I7Fng0OHYj",
        "colab_type": "code",
        "colab": {
          "base_uri": "https://localhost:8080/",
          "height": 35
        },
        "outputId": "4bdcd1a8-b10f-4c25-c79b-2b3477b4b995"
      },
      "source": [
        "p=model.predict(data)\n",
        "aucs=[]\n",
        "for j in range(6):\n",
        "    auc= roc_auc_score(targets[:,j],p[:,j])\n",
        "    aucs.append(auc)\n",
        "\n",
        "print(np.mean(aucs))\n"
      ],
      "execution_count": 17,
      "outputs": [
        {
          "output_type": "stream",
          "text": [
            "0.9756246910567611\n"
          ],
          "name": "stdout"
        }
      ]
    },
    {
      "cell_type": "markdown",
      "metadata": {
        "id": "Ne3GilhCxCML",
        "colab_type": "text"
      },
      "source": [
        "### B. LSTM"
      ]
    },
    {
      "cell_type": "code",
      "metadata": {
        "id": "1tTBmE7sxACA",
        "colab_type": "code",
        "colab": {}
      },
      "source": [
        "from keras.layers import LSTM\n",
        "inputlayer=Input(shape=(MAX_SEQUENCE_LENGTH,))\n",
        "x=embedding_layer(inputlayer)\n",
        "x=LSTM(15,return_sequences=True)(x)\n",
        "x=GlobalMaxPooling1D()(x)\n",
        "output=Dense(len(labels),activation='sigmoid')(x)\n",
        "\n",
        "model=Model(inputlayer,output)\n",
        "model.compile(loss='binary_crossentropy',\n",
        "              optimizer=\"adam\",\n",
        "              metrics=['accuracy'])"
      ],
      "execution_count": 0,
      "outputs": []
    },
    {
      "cell_type": "code",
      "metadata": {
        "id": "3lHepZkvyMqw",
        "colab_type": "code",
        "colab": {
          "base_uri": "https://localhost:8080/",
          "height": 399
        },
        "outputId": "08243942-86a9-4def-dbf8-ea73cd0a6580"
      },
      "source": [
        "model.fit(data,targets,batch_size=BATCH_SIZE,epochs=EPOCHS,validation_split=VALIDATION_SPLIT)"
      ],
      "execution_count": 19,
      "outputs": [
        {
          "output_type": "stream",
          "text": [
            "Train on 127656 samples, validate on 31915 samples\n",
            "Epoch 1/10\n",
            "127656/127656 [==============================] - 171s 1ms/step - loss: 0.1531 - acc: 0.9582 - val_loss: 0.0946 - val_acc: 0.9681\n",
            "Epoch 2/10\n",
            "127656/127656 [==============================] - 173s 1ms/step - loss: 0.0814 - acc: 0.9731 - val_loss: 0.0728 - val_acc: 0.9757\n",
            "Epoch 3/10\n",
            "127656/127656 [==============================] - 171s 1ms/step - loss: 0.0660 - acc: 0.9778 - val_loss: 0.0634 - val_acc: 0.9780\n",
            "Epoch 4/10\n",
            "127656/127656 [==============================] - 170s 1ms/step - loss: 0.0595 - acc: 0.9795 - val_loss: 0.0604 - val_acc: 0.9789\n",
            "Epoch 5/10\n",
            "127656/127656 [==============================] - 172s 1ms/step - loss: 0.0567 - acc: 0.9803 - val_loss: 0.0575 - val_acc: 0.9798\n",
            "Epoch 6/10\n",
            "127656/127656 [==============================] - 170s 1ms/step - loss: 0.0550 - acc: 0.9806 - val_loss: 0.0563 - val_acc: 0.9801\n",
            "Epoch 7/10\n",
            "127656/127656 [==============================] - 168s 1ms/step - loss: 0.0538 - acc: 0.9809 - val_loss: 0.0556 - val_acc: 0.9803\n",
            "Epoch 8/10\n",
            "127656/127656 [==============================] - 171s 1ms/step - loss: 0.0529 - acc: 0.9812 - val_loss: 0.0547 - val_acc: 0.9806\n",
            "Epoch 9/10\n",
            "127656/127656 [==============================] - 169s 1ms/step - loss: 0.0520 - acc: 0.9814 - val_loss: 0.0541 - val_acc: 0.9807\n",
            "Epoch 10/10\n",
            "127656/127656 [==============================] - 170s 1ms/step - loss: 0.0511 - acc: 0.9815 - val_loss: 0.0537 - val_acc: 0.9809\n"
          ],
          "name": "stdout"
        },
        {
          "output_type": "execute_result",
          "data": {
            "text/plain": [
              "<keras.callbacks.History at 0x7ff3700949e8>"
            ]
          },
          "metadata": {
            "tags": []
          },
          "execution_count": 19
        }
      ]
    },
    {
      "cell_type": "code",
      "metadata": {
        "id": "eeaqiCCuHds2",
        "colab_type": "code",
        "colab": {
          "base_uri": "https://localhost:8080/",
          "height": 35
        },
        "outputId": "66e15bb5-4a80-4166-d093-68bdc4f1c5b2"
      },
      "source": [
        "p=model.predict(data)\n",
        "aucs=[]\n",
        "for j in range(6):\n",
        "    auc= roc_auc_score(targets[:,j],p[:,j])\n",
        "    aucs.append(auc)\n",
        "\n",
        "print(np.mean(aucs))"
      ],
      "execution_count": 20,
      "outputs": [
        {
          "output_type": "stream",
          "text": [
            "0.9736022437907174\n"
          ],
          "name": "stdout"
        }
      ]
    }
  ]
}